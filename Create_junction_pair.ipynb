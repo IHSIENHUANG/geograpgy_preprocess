{
 "cells": [
  {
   "cell_type": "code",
   "execution_count": 3,
   "metadata": {},
   "outputs": [],
   "source": [
    "import pandas as pd\n",
    "import numpy as np\n",
    "from datetime import datetime\n",
    "import math"
   ]
  },
  {
   "cell_type": "code",
   "execution_count": 4,
   "metadata": {},
   "outputs": [],
   "source": [
    "data = pd.read_excel('./TOTAL_FILE/join_junc_to_CA_02_05_simple_filed.xlsx')\n",
    "dic = {}\n",
    "linkid_name = {}\n",
    "abnormal_edge = []\n",
    "# data['NAME'],data['LinkID'],data['Id']\n",
    "# Id for two junction point\n",
    "for name,linkid,junid in zip(data['NAME'],data['TARGET_FID'],data['Id']):\n",
    "    dic[linkid] = dic.get(linkid,[])\n",
    "    dic[linkid].append(junid)\n",
    "    linkid_name[linkid] = name\n"
   ]
  },
  {
   "cell_type": "code",
   "execution_count": 5,
   "metadata": {},
   "outputs": [
    {
     "name": "stdout",
     "output_type": "stream",
     "text": [
      "524287\n"
     ]
    }
   ],
   "source": [
    "for linkid in dic:\n",
    "    if len(dic[linkid]) !=2:\n",
    "        #print (\"Or \\\"LinkID\\\"=\",linkid)\n",
    "        print (linkid)\n",
    "        abnormal_edge.append(linkid)\n",
    "    if len(dic[linkid]) ==1:\n",
    "        dic[linkid].append(linkid)\n",
    "        #print (dic[1])"
   ]
  },
  {
   "cell_type": "code",
   "execution_count": 6,
   "metadata": {},
   "outputs": [
    {
     "name": "stdout",
     "output_type": "stream",
     "text": [
      "524288 524288 524288 524288\n"
     ]
    }
   ],
   "source": [
    "Name = []\n",
    "JuncId_1 = []\n",
    "JuncId_2 = []\n",
    "LinkId = []\n",
    "for linkid in dic:\n",
    "    Name.append(linkid_name[linkid])\n",
    "    JuncId_1.append(dic[linkid][0])\n",
    "    if len(dic[linkid])==1:\n",
    "        JuncId_2.append(None)\n",
    "    else:\n",
    "        JuncId_2.append(dic[linkid][1])\n",
    "    LinkId.append(linkid)\n",
    "print (len(Name),len(JuncId_1),len(JuncId_2),len(LinkId))\n",
    "dictionary = {\n",
    "    \"LinkID\" : LinkId,\n",
    "    \"JID1\" : JuncId_1,\n",
    "    \"JID2\" : JuncId_2,\n",
    "    \"NAME\" : Name\n",
    "}\n",
    "columns = ['LinkID','JID1','JID2','NAME']"
   ]
  },
  {
   "cell_type": "code",
   "execution_count": 7,
   "metadata": {},
   "outputs": [],
   "source": [
    "select_df = pd.DataFrame(dictionary)\n",
    "select_df.to_csv('./TOTAL_FILE/join_junc_to_CA_02_05_simple_filed.csv',index = False,columns=columns)"
   ]
  },
  {
   "cell_type": "code",
   "execution_count": 6,
   "metadata": {},
   "outputs": [
    {
     "data": {
      "text/plain": [
       "10510"
      ]
     },
     "execution_count": 6,
     "metadata": {},
     "output_type": "execute_result"
    }
   ],
   "source": [
    "224\n",
    "2276\n",
    "2873\n",
    "3795\n",
    "6828\n",
    "9444\n",
    "9939\n",
    "10510"
   ]
  },
  {
   "cell_type": "code",
   "execution_count": null,
   "metadata": {
    "collapsed": true
   },
   "outputs": [],
   "source": [
    "data.h"
   ]
  },
  {
   "cell_type": "code",
   "execution_count": null,
   "metadata": {},
   "outputs": [],
   "source": [
    "# "
   ]
  }
 ],
 "metadata": {
  "anaconda-cloud": {},
  "kernelspec": {
   "display_name": "Python 3",
   "language": "python",
   "name": "python3"
  },
  "language_info": {
   "codemirror_mode": {
    "name": "ipython",
    "version": 3
   },
   "file_extension": ".py",
   "mimetype": "text/x-python",
   "name": "python",
   "nbconvert_exporter": "python",
   "pygments_lexer": "ipython3",
   "version": "3.7.0"
  }
 },
 "nbformat": 4,
 "nbformat_minor": 1
}

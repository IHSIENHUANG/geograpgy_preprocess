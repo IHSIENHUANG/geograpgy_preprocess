{
 "cells": [
  {
   "cell_type": "code",
   "execution_count": 1,
   "metadata": {
    "collapsed": true
   },
   "outputs": [],
   "source": [
    "import pandas as pd\n",
    "import numpy as np\n",
    "from datetime import datetime\n",
    "import math"
   ]
  },
  {
   "cell_type": "code",
   "execution_count": 2,
   "metadata": {
    "collapsed": true
   },
   "outputs": [],
   "source": [
    "#detect one-edge-connected-junction\n",
    "#data = pd.read_excel('./Network_LA/uc6_locals_junc_pair_v1.xlsx')\n",
    "#data_pos = pd.read_excel(\"./Network_LA/uc6_02_05_UTM_locals_ND_Junctions.xlsx\")\n",
    "#data = pd.read_excel('./Network_LA_uc1/join_junc_to_links_uc1_locals.xlsx')\n",
    "#data_pos = pd.read_excel(\"./Network_LA_uc1/uc1_02_05_locals_ND_Junctions_UTM.xlsx\")\n",
    "#--- uc2\n",
    "#data = pd.read_excel('./uc2_freeway/join_junc_to_links_uc2_freeways_v1.xlsx')\n",
    "#data_pos = pd.read_excel(\"./uc2_freeway/uc2_00_01_freeways_W_N_ND2_Junctions_UTM.xlsx\")\n",
    "#--- uc3\n",
    "data = pd.read_excel('./uc3_freeway/join_junc_to_links_uc3_freeways.xlsx')\n",
    "data_pos = pd.read_excel(\"./uc3_freeway/uc3_00_01_N_E_ND_Junctions_UTM.xlsx\")"
   ]
  },
  {
   "cell_type": "code",
   "execution_count": 5,
   "metadata": {
    "collapsed": true
   },
   "outputs": [],
   "source": [
    "def Build_dict(dic,df):\n",
    "    #print (df)\n",
    "    #df = sorted(df,key=lambda x:x[1])\n",
    "    #print (\"ending building dictionary with one street name data\")\n",
    "    #testing_data = sorted(testing_data,key=lambda x:x[1])\n",
    "    #print (testing_data)\n",
    "    multiple_road = {} # store which junction coneected to more than two roads\n",
    "    #dic = {} # store junction A connected to junction B\n",
    "    street_id = {} # store pair of junction with the edge\n",
    "    for i in range(len(df)):\n",
    "        row = df.iloc[i,:]\n",
    "        if row[1] not in dic:\n",
    "            dic[row[1]] = [row[2]]\n",
    "        elif row[2] not in dic[row[1]]:\n",
    "            dic[row[1]].append(row[2])\n",
    "        if row[2] not in dic:\n",
    "            dic[row[2]] = [row[1]]\n",
    "        elif row[1] not in dic[row[2]]:\n",
    "            dic[row[2]].append(row[1])\n",
    "        smaller,bigger = min(row[1],row[2]),max(row[1],row[2])\n",
    "        if (smaller,bigger) in street_id:\n",
    "            All_Deleted_Edge.append([row[0]])\n",
    "            #street_id[(smaller,bigger)].append(row[0])\n",
    "        else:\n",
    "            street_id[(smaller,bigger)] = row[0]\n",
    "    for num in dic:\n",
    "        if len(set(dic[num])) >=2:\n",
    "            multiple_road[num] = dic[num]\n",
    "    #print (\"end reading data\")\n",
    "    return multiple_road,street_id\n",
    "def build_main_street_dic():\n",
    "    for index,(LinkID,JID1,JID2,StName) in enumerate(zip(data['LinkID'],data['JID1'],data['JID2'],data['NAME'])):\n",
    "        Main_StName = str(StName).split(\" \")\n",
    "        if Main_StName[0] in Direction:\n",
    "            Main_StName = Main_StName[1:]\n",
    "        if Main_StName[-1] in Direction:\n",
    "            Main_StName = Main_StName[:-1]\n",
    "        Main_StName= ''.join(Main_StName)\n",
    "        Street_Name[Main_StName]= Street_Name.get(Main_StName,[])\n",
    "        Street_Name[Main_StName].append(LinkID)"
   ]
  },
  {
   "cell_type": "code",
   "execution_count": 6,
   "metadata": {
    "collapsed": true
   },
   "outputs": [],
   "source": [
    "def BFS(start,end):#seen saved the seen path\n",
    "    queue = []\n",
    "    queue.append([start])\n",
    "    while queue:\n",
    "        path = queue.pop(0)\n",
    "        node = path[-1]\n",
    "        if node in path[:-1]:#no circle is allowed\n",
    "            return False\n",
    "        if node == end:\n",
    "            return path\n",
    "        for adj in dic[node]:\n",
    "            new_path = list(path)\n",
    "            new_path.append(adj)\n",
    "            queue.append(new_path)\n",
    "    return False\n",
    "        "
   ]
  },
  {
   "cell_type": "code",
   "execution_count": 7,
   "metadata": {
    "collapsed": false
   },
   "outputs": [
    {
     "name": "stdout",
     "output_type": "stream",
     "text": [
      "[116, 115]\n",
      "[119, 118]\n",
      "[137, 136]\n",
      "[729, 710, 728]\n",
      "[45, 44]\n",
      "[127, 126]\n",
      "[982, 981]\n"
     ]
    },
    {
     "data": {
      "text/plain": [
       "'\\nfor element in Deleted_edge:\\n    print (\"or \"LinkID\" = \",element)\\nprint (len(Deleted_edge))\\n'"
      ]
     },
     "execution_count": 7,
     "metadata": {},
     "output_type": "execute_result"
    }
   ],
   "source": [
    "All_Deleted_Edge = []\n",
    "#data = pd.read_excel('./Network_LA/uc6_locals_junc_pair_v1.xlsx')\n",
    "Street_Name = {} # record which index is store in the name of streer\n",
    "Direction = ['E','N','S','W']\n",
    "build_main_street_dic() # call func\n",
    "now = datetime.now()\n",
    "\n",
    "Deleted_edge = []\n",
    "for index,name in  enumerate(Street_Name):\n",
    "    #print (name)\n",
    "    #\"PioneerBlvd\" \"HayvenhurstAve\"\n",
    "    df = data.loc[data['LinkID'].isin(Street_Name[name])] # find the all rows with same street name\n",
    "    multiple_road = {} # store which junction coneected to more than two roads\n",
    "    dic = {}\n",
    "    multiple_road,street_id = Build_dict(dic,df)\n",
    "    one_edge_junc = []\n",
    "    parallel_pts = []\n",
    "    for element in dic:\n",
    "        if len(set(dic[element]))==1:\n",
    "            one_edge_junc.append(element)\n",
    "    one_edge_junc = sorted(one_edge_junc)\n",
    "    view_pair = set()\n",
    "    for val in (one_edge_junc): # get the parallele pt \n",
    "        data_x,data_y = data_pos.ix[val-1,1],data_pos.ix[val-1,2]\n",
    "        for val2 in one_edge_junc:\n",
    "            if val == val2 or (min(val,val2),max(val,val2)) in view_pair:\n",
    "                break\n",
    "            x2,data_y2 = data_pos.ix[val2-1,1],data_pos.ix[val2-1,2]\n",
    "            if math.sqrt((data_x-x2)**2 +(data_y-data_y2)**2) < 25:\n",
    "                path = BFS(val,val2)\n",
    "                if path != False:\n",
    "                    parallel_pts.append(path)\n",
    "                    view_pair.add((min(val,val2),max(val,val2)))\n",
    "                    #print (val,val2,path)\n",
    "                    break       \n",
    "    for path in parallel_pts: # get the path from one pt to another pt\n",
    "        print (path)\n",
    "        if len(path) ==2:\n",
    "            Deleted_edge.append(street_id[(min(path[0],path[1]),max(path[0],path[1]))])\n",
    "        else:\n",
    "            if len(path) %2 ==0:\n",
    "                mid = int(len(path)/2)\n",
    "            else:\n",
    "                mid = int(len(path)/2)+1\n",
    "            for i in range(1,len(path[:mid])):\n",
    "                Deleted_edge.append(street_id[(min(path[i],path[i-1]),max(path[i],path[i-1]))])\n",
    "'''\n",
    "for element in Deleted_edge:\n",
    "    print (\"or \\\"LinkID\\\" = \",element)\n",
    "print (len(Deleted_edge))\n",
    "'''"
   ]
  },
  {
   "cell_type": "code",
   "execution_count": 8,
   "metadata": {
    "collapsed": false
   },
   "outputs": [],
   "source": [
    "df2 = pd.DataFrame(Deleted_edge, columns=[\"LinkID\"])\n",
    "#df2.to_csv('uc6_delete_v2.csv', index=False)\n",
    "#df1 = pd.read_excel(\"delete_v1.csv\")\n",
    "#df1.to_csv('uc6_delete_v3.csv', index=False)\n",
    "df2.to_csv('delete_uc3.csv', index=False,header=False, mode='a+')"
   ]
  },
  {
   "cell_type": "code",
   "execution_count": null,
   "metadata": {
    "collapsed": true
   },
   "outputs": [],
   "source": []
  },
  {
   "cell_type": "code",
   "execution_count": null,
   "metadata": {
    "collapsed": true
   },
   "outputs": [],
   "source": []
  }
 ],
 "metadata": {
  "anaconda-cloud": {},
  "kernelspec": {
   "display_name": "Python [default]",
   "language": "python",
   "name": "python3"
  },
  "language_info": {
   "codemirror_mode": {
    "name": "ipython",
    "version": 3
   },
   "file_extension": ".py",
   "mimetype": "text/x-python",
   "name": "python",
   "nbconvert_exporter": "python",
   "pygments_lexer": "ipython3",
   "version": "3.5.2"
  }
 },
 "nbformat": 4,
 "nbformat_minor": 1
}
